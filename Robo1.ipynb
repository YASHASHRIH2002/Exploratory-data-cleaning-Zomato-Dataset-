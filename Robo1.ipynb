{
 "cells": [
  {
   "cell_type": "code",
   "execution_count": 24,
   "id": "25fd1a69",
   "metadata": {},
   "outputs": [],
   "source": [
    "def is_path_clear(grid,start_x, start_y,end_x,end_y):\n",
    "    if start_x==end_x:\n",
    "        for y in range(min(start_y,end_y),max(start_y,end_y)+1):\n",
    "            if grid[y][start_x]==0:\n",
    "                return False\n",
    "    elif start_y==end_y:\n",
    "        for x in range(min(start_x,end_x),max(start_x,end_x)+1):\n",
    "            if grid[start_y][x]==0:\n",
    "                return False\n",
    "        return True\n",
    "    elif start_x>end_x and start_y>end_y:\n",
    "        return \"Watchout! The path is a reversed path.\""
   ]
  },
  {
   "cell_type": "code",
   "execution_count": 25,
   "id": "e12253bf",
   "metadata": {},
   "outputs": [],
   "source": [
    "grid = [\n",
    "    [ 0 , 1 , 1 ],\n",
    "    [ 0 , 0 , 1 ],\n",
    "    [ 1 , 1 , 1 ]\n",
    "] "
   ]
  },
  {
   "cell_type": "code",
   "execution_count": 26,
   "id": "16b362b9",
   "metadata": {},
   "outputs": [
    {
     "name": "stdout",
     "output_type": "stream",
     "text": [
      "The path from (0,0) to (0,2) is False\n",
      "The path from (2,2) to (0,0) is Watchout! The path is a reversed path.\n"
     ]
    }
   ],
   "source": [
    "clear_path_1=is_path_clear(grid,0,0,0,2)\n",
    "print(f\"The path from (0,0) to (0,2) is {clear_path_1}\")\n",
    "clear_path_1=is_path_clear(grid,2,2,0,0)\n",
    "print(f\"The path from (2,2) to (0,0) is {clear_path_1}\")"
   ]
  }
 ],
 "metadata": {
  "kernelspec": {
   "display_name": "base",
   "language": "python",
   "name": "python3"
  },
  "language_info": {
   "codemirror_mode": {
    "name": "ipython",
    "version": 3
   },
   "file_extension": ".py",
   "mimetype": "text/x-python",
   "name": "python",
   "nbconvert_exporter": "python",
   "pygments_lexer": "ipython3",
   "version": "3.13.5"
  }
 },
 "nbformat": 4,
 "nbformat_minor": 5
}

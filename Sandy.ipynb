{
 "cells": [
  {
   "cell_type": "code",
   "execution_count": null,
   "id": "6ff2ebee",
   "metadata": {},
   "outputs": [],
   "source": [
    "class robot:\n",
    "    def __init__(self, nameofrobot,task):\n",
    "        self.nameofrobot=nameofrobot\n",
    "        self.task=task\n",
    "        self.__secret=\"Code1234\"\n",
    "    def move(self):\n",
    "        # print(self.nameofrobot)\n",
    "        # print(self.task)\n",
    "        print(f\"{self.task} is the task of the robot named {self.nameofrobot} \")"
   ]
  },
  {
   "cell_type": "code",
   "execution_count": 19,
   "id": "f61b3bf5",
   "metadata": {},
   "outputs": [],
   "source": [
    "robo1=robot(\"Sandy\",\"Heartbeat Monitoring\")\n",
    "# print(self.task)"
   ]
  },
  {
   "cell_type": "code",
   "execution_count": 20,
   "id": "2d223510",
   "metadata": {},
   "outputs": [
    {
     "name": "stdout",
     "output_type": "stream",
     "text": [
      "Heartbeat Monitoring is the task of the robot named Sandy \n"
     ]
    }
   ],
   "source": [
    "robo1.move()"
   ]
  }
 ],
 "metadata": {
  "kernelspec": {
   "display_name": "base",
   "language": "python",
   "name": "python3"
  },
  "language_info": {
   "codemirror_mode": {
    "name": "ipython",
    "version": 3
   },
   "file_extension": ".py",
   "mimetype": "text/x-python",
   "name": "python",
   "nbconvert_exporter": "python",
   "pygments_lexer": "ipython3",
   "version": "3.13.5"
  }
 },
 "nbformat": 4,
 "nbformat_minor": 5
}

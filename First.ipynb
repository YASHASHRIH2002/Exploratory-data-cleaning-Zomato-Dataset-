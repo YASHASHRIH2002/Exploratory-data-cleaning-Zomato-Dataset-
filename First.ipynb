{
 "cells": [
  {
   "cell_type": "code",
   "execution_count": null,
   "id": "4cf7feff",
   "metadata": {
    "vscode": {
     "languageId": "plaintext"
    }
   },
   "outputs": [],
   "source": [
    "#Importing necessary libraries \n",
    "import pandas as pd \n",
    "from sklearn.linear_model import logisticregression"
   ]
  },
  {
   "cell_type": "code",
   "execution_count": null,
   "id": "2f4ed714",
   "metadata": {
    "vscode": {
     "languageId": "plaintext"
    }
   },
   "outputs": [],
   "source": []
  }
 ],
 "metadata": {
  "language_info": {
   "name": "python"
  }
 },
 "nbformat": 4,
 "nbformat_minor": 5
}

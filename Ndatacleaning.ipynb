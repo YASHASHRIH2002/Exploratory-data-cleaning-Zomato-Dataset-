{
 "cells": [
  {
   "cell_type": "code",
   "execution_count": 10,
   "id": "07de6463",
   "metadata": {},
   "outputs": [
    {
     "name": "stdout",
     "output_type": "stream",
     "text": [
      "d:\\ARCAP\\PYTHON\n"
     ]
    }
   ],
   "source": [
    "import pandas as pd\n",
    "import os \n",
    "print(os.getcwd())"
   ]
  },
  {
   "cell_type": "code",
   "execution_count": 12,
   "id": "ad83d794",
   "metadata": {},
   "outputs": [],
   "source": [
    "df = pd.read_csv('robot_interaction_dataset.csv')"
   ]
  },
  {
   "cell_type": "code",
   "execution_count": 13,
   "id": "65f2f209",
   "metadata": {},
   "outputs": [
    {
     "name": "stdout",
     "output_type": "stream",
     "text": [
      "      Robot ID            Task Type    Action Start Time      Action End Time  \\\n",
      "0          R52  Object Manipulation  2025-01-05 03:19:00  2025-01-05 03:19:49   \n",
      "1          R93           Inspection  2025-01-03 06:49:00  2025-01-03 06:49:06   \n",
      "2          R15        Collaboration  2025-01-04 20:26:00  2025-01-04 20:26:39   \n",
      "3          R72           Inspection  2025-01-02 21:58:00  2025-01-02 21:58:49   \n",
      "4          R61           Inspection  2025-01-04 16:31:00  2025-01-04 16:31:13   \n",
      "...        ...                  ...                  ...                  ...   \n",
      "10871      R13  Object Manipulation  2025-01-07 06:11:00  2025-01-07 06:11:27   \n",
      "10872      R62  Object Manipulation  2025-01-01 03:33:00  2025-01-01 03:33:51   \n",
      "10873      R47           Inspection  2025-01-02 03:46:00  2025-01-02 03:46:05   \n",
      "10874      R16           Inspection  2025-01-07 07:25:00  2025-01-07 07:25:36   \n",
      "10875      R66           Inspection  2025-01-03 22:54:00  2025-01-03 22:54:45   \n",
      "\n",
      "       Action Duration (ms)         Comm Type  Packet Size (bytes)  \\\n",
      "0                   49000.0    Robot-to-Human                 1318   \n",
      "1                    6000.0    Robot-to-Robot                 1697   \n",
      "2                   39000.0  Robot-to-Network                  658   \n",
      "3                   49000.0    Robot-to-Human                 1947   \n",
      "4                   13000.0    Robot-to-Human                  767   \n",
      "...                     ...               ...                  ...   \n",
      "10871               27000.0    Robot-to-Robot                 1169   \n",
      "10872               51000.0    Robot-to-Robot                  686   \n",
      "10873                5000.0    Robot-to-Robot                 1223   \n",
      "10874               36000.0    Robot-to-Human                 1921   \n",
      "10875               45000.0  Robot-to-Network                 1096   \n",
      "\n",
      "       Latency (ms)  Throughput (Mbps)  Packet Loss (%)  Jitter (ms)  \\\n",
      "0         43.710449         471.933207         0.260543     4.715158   \n",
      "1         75.548409         315.774745         0.826987     2.518586   \n",
      "2         33.485892         532.559855         1.415400     2.960675   \n",
      "3         93.397548         577.267118         0.974297     1.805431   \n",
      "4         83.385769         613.450694         0.662468     1.040530   \n",
      "...             ...                ...              ...          ...   \n",
      "10871     63.608834         521.562781         0.808982     2.079561   \n",
      "10872     90.140785         677.505290         0.921972     2.518174   \n",
      "10873     38.594944         478.728264         0.844050     2.745087   \n",
      "10874     71.359083         971.078779         1.993104     3.587941   \n",
      "10875     51.719603         636.997354         1.540363     3.049241   \n",
      "\n",
      "        SNR (dB)  Bandwidth Allocation (Mbps)  AI Decision Time (ms)  \\\n",
      "0      21.912292                   222.552522                     79   \n",
      "1      28.925332                   300.061341                     84   \n",
      "2      23.643976                   266.079689                     55   \n",
      "3      23.826004                   200.175217                     82   \n",
      "4      27.998632                   306.182681                     62   \n",
      "...          ...                          ...                    ...   \n",
      "10871  27.273740                   227.469396                     66   \n",
      "10872  28.931791                   322.022578                     83   \n",
      "10873  22.097927                   334.331526                     51   \n",
      "10874  27.735210                   163.607422                     37   \n",
      "10875  28.069019                   263.427930                     40   \n",
      "\n",
      "       Model Accuracy (%)  Error Rate (%)     Environment Type  \\\n",
      "0               98.200160        3.939739  Healthcare Facility   \n",
      "1               97.498529        0.462654            Warehouse   \n",
      "2               96.747985        2.428633            Warehouse   \n",
      "3               98.833107        1.866719            Warehouse   \n",
      "4               90.236071        3.163331            Warehouse   \n",
      "...                   ...             ...                  ...   \n",
      "10871           95.079616        2.864940            Warehouse   \n",
      "10872           97.235430        4.911346        Factory Floor   \n",
      "10873           93.764210        2.676103        Factory Floor   \n",
      "10874           92.782648        3.681410        Factory Floor   \n",
      "10875           92.051401        1.074972            Warehouse   \n",
      "\n",
      "               Robot Type Task Complexity  Interaction Density  \n",
      "0      Autonomous Vehicle          Simple                    6  \n",
      "1        Industrial Robot          Medium                    6  \n",
      "2        Industrial Robot          Simple                    4  \n",
      "3      Autonomous Vehicle          Simple                    9  \n",
      "4           Service Robot         Complex                    2  \n",
      "...                   ...             ...                  ...  \n",
      "10871  Autonomous Vehicle         Complex                    9  \n",
      "10872       Service Robot         Complex                    6  \n",
      "10873       Service Robot         Complex                    7  \n",
      "10874    Industrial Robot          Medium                    3  \n",
      "10875       Service Robot         Complex                    2  \n",
      "\n",
      "[10876 rows x 20 columns]\n"
     ]
    }
   ],
   "source": [
    "df.dropna(inplace=True)\n",
    "print(df)"
   ]
  }
 ],
 "metadata": {
  "kernelspec": {
   "display_name": "base",
   "language": "python",
   "name": "python3"
  },
  "language_info": {
   "codemirror_mode": {
    "name": "ipython",
    "version": 3
   },
   "file_extension": ".py",
   "mimetype": "text/x-python",
   "name": "python",
   "nbconvert_exporter": "python",
   "pygments_lexer": "ipython3",
   "version": "3.13.5"
  }
 },
 "nbformat": 4,
 "nbformat_minor": 5
}

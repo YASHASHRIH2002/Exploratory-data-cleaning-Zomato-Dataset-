{
 "cells": [
  {
   "cell_type": "code",
   "execution_count": 3,
   "id": "930dab5d",
   "metadata": {},
   "outputs": [],
   "source": [
    "import numpy as np"
   ]
  },
  {
   "cell_type": "code",
   "execution_count": 14,
   "id": "9994f50a",
   "metadata": {},
   "outputs": [
    {
     "name": "stdout",
     "output_type": "stream",
     "text": [
      "[[ 0  0  0]\n",
      " [13  1 10]\n",
      " [ 2  2  2]]\n"
     ]
    }
   ],
   "source": [
    "arraexa=np.array([[0,0,0],[13,1,10],[2,2,2]])\n",
    "print(arraexa)"
   ]
  },
  {
   "cell_type": "code",
   "execution_count": 15,
   "id": "ffc45829",
   "metadata": {},
   "outputs": [
    {
     "name": "stdout",
     "output_type": "stream",
     "text": [
      "(3, 3)\n",
      "int64\n"
     ]
    }
   ],
   "source": [
    "print(arraexa.shape)\n",
    "print(arraexa.dtype)"
   ]
  },
  {
   "cell_type": "code",
   "execution_count": null,
   "id": "217b73a6",
   "metadata": {},
   "outputs": [],
   "source": [
    "a=np.ones((4,5),dtype=np.float32)"
   ]
  },
  {
   "cell_type": "code",
   "execution_count": null,
   "id": "fa115b26",
   "metadata": {},
   "outputs": [],
   "source": [
    "print(a)"
   ]
  },
  {
   "cell_type": "code",
   "execution_count": null,
   "id": "a232dbc9",
   "metadata": {},
   "outputs": [
    {
     "name": "stdout",
     "output_type": "stream",
     "text": [
      "[[0. 0. 0. 0. 0.]\n",
      " [0. 0. 0. 0. 0.]\n",
      " [0. 0. 0. 0. 0.]\n",
      " [0. 0. 0. 0. 0.]\n",
      " [0. 0. 0. 0. 0.]\n",
      " [0. 0. 0. 0. 0.]]\n"
     ]
    }
   ],
   "source": [
    "a=np.zeros((6,5),dtype=np.float64)\n",
    "print(a)"
   ]
  },
  {
   "cell_type": "code",
   "execution_count": 6,
   "id": "4683b5f8",
   "metadata": {},
   "outputs": [
    {
     "name": "stdout",
     "output_type": "stream",
     "text": [
      "[ 5. 12.  8.  9.]\n"
     ]
    }
   ],
   "source": [
    "#vectorisation in NumPy\n",
    "sensor_voltages=np.array([0.5,1.2,0.8,0.9])\n",
    "newdata=sensor_voltages*10\n",
    "print(newdata)"
   ]
  },
  {
   "cell_type": "code",
   "execution_count": 7,
   "id": "4bb12fa5",
   "metadata": {},
   "outputs": [],
   "source": [
    "bp_readings=np.array([125,135,110,145,150])\n",
    "is_high_bp=bp_readings>140"
   ]
  },
  {
   "cell_type": "code",
   "execution_count": 8,
   "id": "abda178d",
   "metadata": {},
   "outputs": [
    {
     "name": "stdout",
     "output_type": "stream",
     "text": [
      "[False False False  True  True]\n"
     ]
    }
   ],
   "source": [
    "print(is_high_bp)"
   ]
  },
  {
   "cell_type": "code",
   "execution_count": 12,
   "id": "dc4bb037",
   "metadata": {},
   "outputs": [
    {
     "name": "stdout",
     "output_type": "stream",
     "text": [
      "[[0.83054495 0.71480488 0.38004226 0.84720876 0.50362227]\n",
      " [0.86232821 0.64710359 0.60792759 0.22468724 0.89447998]]\n"
     ]
    }
   ],
   "source": [
    "#to generate a random number \n",
    "random_obj=np.random.random((2,5))\n",
    "print(random_obj)"
   ]
  },
  {
   "cell_type": "code",
   "execution_count": 15,
   "id": "3536476f",
   "metadata": {},
   "outputs": [
    {
     "name": "stdout",
     "output_type": "stream",
     "text": [
      "[10.5 23.5  9. ]\n"
     ]
    }
   ],
   "source": [
    "#indeixing and slicesing\n",
    "#slicesing is similar to when you only want to use the some part of any array\n",
    "#indexing is giving index (position) to the values in the array\n",
    "\n",
    "robot_pose=np.array([10.5,23.5,9,4,23.0])\n",
    "position=robot_pose[:3]\n",
    "print(position)"
   ]
  },
  {
   "cell_type": "code",
   "execution_count": 18,
   "id": "9a74e906",
   "metadata": {},
   "outputs": [
    {
     "name": "stdout",
     "output_type": "stream",
     "text": [
      "[[0.62423165 0.01320666 0.14950043 0.80711777 0.72791127 0.1987521\n",
      "  0.77791515]\n",
      " [0.08186247 0.95853979 0.75931433 0.18719785 0.14956656 0.62427468\n",
      "  0.29428975]\n",
      " [0.21601566 0.35438124 0.06054124 0.87776405 0.99296927 0.21549053\n",
      "  0.32837907]\n",
      " [0.07975262 0.99620325 0.77747472 0.25426689 0.17843583 0.41579677\n",
      "  0.97835239]\n",
      " [0.46676075 0.50127823 0.61347209 0.30187244 0.58588547 0.46940504\n",
      "  0.9700997 ]\n",
      " [0.64221992 0.97360966 0.51540158 0.68627005 0.23127918 0.02660349\n",
      "  0.41387968]\n",
      " [0.18819188 0.68289497 0.08027054 0.30192054 0.70932305 0.22135324\n",
      "  0.98391304]\n",
      " [0.00899694 0.5246235  0.11975484 0.23053269 0.22373506 0.81268693\n",
      "  0.84024434]\n",
      " [0.85835441 0.67066148 0.02419973 0.12290911 0.6436687  0.5078436\n",
      "  0.97010921]\n",
      " [0.86046438 0.86538811 0.95551016 0.97565752 0.29427925 0.60481353\n",
      "  0.78228719]]\n"
     ]
    }
   ],
   "source": [
    "#patients ecg signal simulating using random\n",
    "ecg_signal=np.random.random((10,7))\n",
    "print(ecg_signal)\n"
   ]
  },
  {
   "cell_type": "code",
   "execution_count": 20,
   "id": "3b23a80f",
   "metadata": {},
   "outputs": [
    {
     "name": "stdout",
     "output_type": "stream",
     "text": [
      "[array([[False,  True,  True, False, False,  True, False],\n",
      "       [ True, False, False,  True,  True, False,  True],\n",
      "       [ True,  True,  True, False, False,  True,  True],\n",
      "       [ True, False, False,  True,  True,  True, False],\n",
      "       [ True, False, False,  True, False,  True, False],\n",
      "       [False, False, False, False,  True,  True,  True],\n",
      "       [ True, False,  True,  True, False,  True, False],\n",
      "       [ True, False,  True,  True,  True, False, False],\n",
      "       [False, False,  True,  True, False, False, False],\n",
      "       [False, False, False, False,  True, False, False]])]\n"
     ]
    }
   ],
   "source": [
    "clean_signal=[ecg_signal<0.5]\n",
    "print(clean_signal)"
   ]
  }
 ],
 "metadata": {
  "kernelspec": {
   "display_name": "base",
   "language": "python",
   "name": "python3"
  },
  "language_info": {
   "codemirror_mode": {
    "name": "ipython",
    "version": 3
   },
   "file_extension": ".py",
   "mimetype": "text/x-python",
   "name": "python",
   "nbconvert_exporter": "python",
   "pygments_lexer": "ipython3",
   "version": "3.13.5"
  }
 },
 "nbformat": 4,
 "nbformat_minor": 5
}

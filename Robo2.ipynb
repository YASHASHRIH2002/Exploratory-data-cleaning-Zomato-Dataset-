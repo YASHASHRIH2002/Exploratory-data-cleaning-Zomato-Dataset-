{
 "cells": [
  {
   "cell_type": "code",
   "execution_count": 4,
   "id": "9bb52e61",
   "metadata": {},
   "outputs": [],
   "source": [
    "class Robot:\n",
    "    def __init__(self,name,color):\n",
    "        self.name =name\n",
    "        self.color=color\n",
    "        self.is_on=False\n",
    "        print(f\"Blue print is used : a new robot name {self.name} and its current status is {self.is_on}\")\n",
    "    def describe(self):\n",
    "        status=\"On\" if self.is_on else \"off\"\n",
    "        print(f\"my name is {self.name} and my status is {status}\")\n",
    "    def toggle_power(self):\n",
    "        self.is_on=not self.is_on\n",
    "        print(f\"{self.name} my power is toggeled\") \n"
   ]
  },
  {
   "cell_type": "code",
   "execution_count": 5,
   "id": "0415dbd1",
   "metadata": {},
   "outputs": [
    {
     "name": "stdout",
     "output_type": "stream",
     "text": [
      "Blue print is used : a new robot name aiplasting and its current status is False\n",
      "Blue print is used : a new robot name sandy and its current status is False\n",
      "Blue print is used : a new robot name aichatbot and its current status is False\n"
     ]
    }
   ],
   "source": [
    "Rob1=Robot(\"aiplasting\",\"lavender\")\n",
    "Rob1=Robot(\"sandy\",\"blue\")\n",
    "Rob1=Robot(\"aichatbot\",\"light green\")\n",
    "\n",
    "\n",
    "\n"
   ]
  },
  {
   "cell_type": "code",
   "execution_count": 6,
   "id": "bbf18757",
   "metadata": {},
   "outputs": [
    {
     "name": "stdout",
     "output_type": "stream",
     "text": [
      "my name is aichatbot and my status is off\n"
     ]
    }
   ],
   "source": [
    "Rob1.describe()"
   ]
  },
  {
   "cell_type": "code",
   "execution_count": 7,
   "id": "3962ac10",
   "metadata": {},
   "outputs": [
    {
     "name": "stdout",
     "output_type": "stream",
     "text": [
      "aichatbot my power is toggeled\n"
     ]
    }
   ],
   "source": [
    "Rob1.toggle_power()"
   ]
  },
  {
   "cell_type": "code",
   "execution_count": null,
   "id": "ff0068e6",
   "metadata": {},
   "outputs": [],
   "source": []
  }
 ],
 "metadata": {
  "kernelspec": {
   "display_name": "base",
   "language": "python",
   "name": "python3"
  },
  "language_info": {
   "codemirror_mode": {
    "name": "ipython",
    "version": 3
   },
   "file_extension": ".py",
   "mimetype": "text/x-python",
   "name": "python",
   "nbconvert_exporter": "python",
   "pygments_lexer": "ipython3",
   "version": "3.13.5"
  }
 },
 "nbformat": 4,
 "nbformat_minor": 5
}

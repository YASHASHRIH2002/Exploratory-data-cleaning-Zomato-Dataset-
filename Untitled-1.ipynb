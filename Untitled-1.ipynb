{
 "cells": [
  {
   "cell_type": "code",
   "execution_count": 5,
   "id": "161e66ae",
   "metadata": {},
   "outputs": [],
   "source": [
    "import pandas as pd"
   ]
  },
  {
   "cell_type": "code",
   "execution_count": 6,
   "id": "24fa1a75",
   "metadata": {},
   "outputs": [],
   "source": [
    "robot_sensor_readings= pd.Series([23.4,67.9,76.3,65.0,12,8])"
   ]
  },
  {
   "cell_type": "code",
   "execution_count": 7,
   "id": "edb5135b",
   "metadata": {},
   "outputs": [
    {
     "name": "stdout",
     "output_type": "stream",
     "text": [
      "Robot sensor reading:\n",
      " 0    23.4\n",
      "1    67.9\n",
      "2    76.3\n",
      "3    65.0\n",
      "4    12.0\n",
      "5     8.0\n",
      "dtype: float64\n"
     ]
    }
   ],
   "source": [
    "print(\"Robot sensor reading:\\n\",robot_sensor_readings)"
   ]
  },
  {
   "cell_type": "code",
   "execution_count": 8,
   "id": "e1df81e5",
   "metadata": {},
   "outputs": [],
   "source": [
    "#creating a series with a custom index #data series 1D labeled array capable of holding any data type(int, str, floats)\n",
    "patient_ages=pd.Series([45,62,74,29], index=['Patient A','Patient B','Patient C','Patient D'])\n"
   ]
  },
  {
   "cell_type": "code",
   "execution_count": 9,
   "id": "b1246ff5",
   "metadata": {},
   "outputs": [
    {
     "name": "stdout",
     "output_type": "stream",
     "text": [
      "\n",
      "Robot Data DataFrame:\n",
      "              Timestamp  Temperature  Humidity  Joint_Angle\n",
      "0  2023-10-26 10:00:00         25.1      60.2         90.0\n",
      "1  2023-10-26 10:01:00         25.3      60.5         90.1\n",
      "2  2023-10-26 10:02:00         25.0      60.0         89.9\n",
      "3  2023-10-26 10:03:00         25.5      60.8         90.2\n"
     ]
    }
   ],
   "source": [
    "#Data frames #2D data structure with columns of potentially different types.\n",
    "# creating a dataframe from a dictionary\n",
    "# creating a dictionary, from which dataframe will be created \n",
    "robot_data = {\n",
    "    'Timestamp': ['2023-10-26 10:00:00', '2023-10-26 10:01:00', '2023-10-26 10:02:00', '2023-10-26 10:03:00'],\n",
    "    'Temperature': [25.1, 25.3, 25.0, 25.5],\n",
    "    'Humidity': [60.2, 60.5, 60.0, 60.8],\n",
    "    'Joint_Angle': [90.0, 90.1, 89.9, 90.2]\n",
    "}\n",
    "\n",
    "robot_df = pd.DataFrame(robot_data)\n",
    "print(\"\\nRobot Data DataFrame:\\n\", robot_df)\n"
   ]
  },
  {
   "cell_type": "code",
   "execution_count": null,
   "id": "5b247547",
   "metadata": {},
   "outputs": [],
   "source": [
    "robot_df_loaded = pd.read_csv('robot_interaction_dataset')"
   ]
  }
 ],
 "metadata": {
  "kernelspec": {
   "display_name": "base",
   "language": "python",
   "name": "python3"
  },
  "language_info": {
   "codemirror_mode": {
    "name": "ipython",
    "version": 3
   },
   "file_extension": ".py",
   "mimetype": "text/x-python",
   "name": "python",
   "nbconvert_exporter": "python",
   "pygments_lexer": "ipython3",
   "version": "3.13.5"
  }
 },
 "nbformat": 4,
 "nbformat_minor": 5
}
